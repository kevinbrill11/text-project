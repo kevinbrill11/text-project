{
 "cells": [
  {
   "cell_type": "code",
   "execution_count": 2,
   "metadata": {},
   "outputs": [],
   "source": [
    "import praw\n",
    "import pandas as pd\n",
    "import datetime as dt\n",
    "import numpy as np\n",
    "import time\n",
    "%matplotlib inline"
   ]
  },
  {
   "cell_type": "code",
   "execution_count": 3,
   "metadata": {},
   "outputs": [],
   "source": [
    "reddit = praw.Reddit(client_id='Bb1fhVsMwX10GQ', \\\n",
    "                     client_secret='Tj5dnHfyUjftHdbPtZLP6fbtH_4', \\\n",
    "                     user_agent=\"Hill-Brilly's\", \\\n",
    "                     username='RockDrums11', \\\n",
    "                     password='hillbrillies69') #password will be changed after project"
   ]
  },
  {
   "cell_type": "code",
   "execution_count": 4,
   "metadata": {},
   "outputs": [],
   "source": [
    "subreddits = pd.read_csv(\"subreddits.csv\", header = None)"
   ]
  },
  {
   "cell_type": "code",
   "execution_count": 5,
   "metadata": {},
   "outputs": [
    {
     "data": {
      "text/plain": [
       "(31, 1)"
      ]
     },
     "execution_count": 5,
     "metadata": {},
     "output_type": "execute_result"
    }
   ],
   "source": [
    "subreddits.shape"
   ]
  },
  {
   "cell_type": "code",
   "execution_count": 6,
   "metadata": {},
   "outputs": [],
   "source": [
    "subreddits.columns = ['subreddit']\n",
    "df = pd.DataFrame(['title', 'score', 'id', 'subreddit', 'url', 'num_comments', 'comments', 'created'])"
   ]
  },
  {
   "cell_type": "code",
   "execution_count": 7,
   "metadata": {
    "scrolled": true
   },
   "outputs": [
    {
     "name": "stdout",
     "output_type": "stream",
     "text": [
      "Capitalism\n",
      "changemyview\n",
      "Communist\n",
      "Conservative\n",
      "conservatives\n",
      "democrats\n",
      "ElizabethWarren\n",
      "Fuckthealtright\n",
      "government\n",
      "JoeBiden\n",
      "Liberal\n",
      "Libertarian\n",
      "LibertarianLeft\n",
      "Marxism\n",
      "neoliberal\n",
      "Pete_Buttigieg\n",
      "PoliticalDiscussion\n",
      "PoliticalHumor\n",
      "politics\n",
      "progressive\n",
      "RadicalFeminism\n",
      "Republican\n",
      "republicanism\n",
      "republicans\n",
      "SandersForPresident\n",
      "socialdemocracy\n",
      "socialism\n",
      "The_Donald\n",
      "uspolitics\n",
      "VoteBlue\n",
      "YangForPresidentHQ\n",
      "Wall time: 53min 58s\n"
     ]
    },
    {
     "data": {
      "text/html": [
       "<div>\n",
       "<style scoped>\n",
       "    .dataframe tbody tr th:only-of-type {\n",
       "        vertical-align: middle;\n",
       "    }\n",
       "\n",
       "    .dataframe tbody tr th {\n",
       "        vertical-align: top;\n",
       "    }\n",
       "\n",
       "    .dataframe thead th {\n",
       "        text-align: right;\n",
       "    }\n",
       "</style>\n",
       "<table border=\"1\" class=\"dataframe\">\n",
       "  <thead>\n",
       "    <tr style=\"text-align: right;\">\n",
       "      <th></th>\n",
       "      <th>title</th>\n",
       "      <th>score</th>\n",
       "      <th>id</th>\n",
       "      <th>subreddit</th>\n",
       "      <th>url</th>\n",
       "      <th>num_comments</th>\n",
       "      <th>comments</th>\n",
       "      <th>created</th>\n",
       "    </tr>\n",
       "  </thead>\n",
       "  <tbody>\n",
       "    <tr>\n",
       "      <td>0</td>\n",
       "      <td>Community Comments</td>\n",
       "      <td>22</td>\n",
       "      <td>dztn6a</td>\n",
       "      <td>Capitalism</td>\n",
       "      <td>https://www.reddit.com/r/Capitalism/comments/d...</td>\n",
       "      <td>8</td>\n",
       "      <td>(f8ah9li, f8ahgtb, f8ekdlu, f8vkbl1)</td>\n",
       "      <td>1.574415e+09</td>\n",
       "    </tr>\n",
       "    <tr>\n",
       "      <td>1</td>\n",
       "      <td>Ranking US Occupations by Wage 1999-2018</td>\n",
       "      <td>31</td>\n",
       "      <td>e4iwb0</td>\n",
       "      <td>Capitalism</td>\n",
       "      <td>https://www.youtube.com/watch?v=8-CbML_g3Lo</td>\n",
       "      <td>1</td>\n",
       "      <td>(f9csd7o)</td>\n",
       "      <td>1.575244e+09</td>\n",
       "    </tr>\n",
       "    <tr>\n",
       "      <td>2</td>\n",
       "      <td>Millennial and Gen Zers: What/Who made you sub...</td>\n",
       "      <td>37</td>\n",
       "      <td>e4e8lk</td>\n",
       "      <td>Capitalism</td>\n",
       "      <td>https://www.reddit.com/r/Capitalism/comments/e...</td>\n",
       "      <td>53</td>\n",
       "      <td>(f99zjx3, f9b01v3, f9advqv, f9ba8h2, f9au0i3, ...</td>\n",
       "      <td>1.575219e+09</td>\n",
       "    </tr>\n",
       "    <tr>\n",
       "      <td>3</td>\n",
       "      <td>Socialist Myths: The Nanny state (of mind) and...</td>\n",
       "      <td>15</td>\n",
       "      <td>e4fhc7</td>\n",
       "      <td>Capitalism</td>\n",
       "      <td>https://www.reddit.com/r/Capitalism/comments/e...</td>\n",
       "      <td>7</td>\n",
       "      <td>(f9c6isi, f9b2hc4)</td>\n",
       "      <td>1.575224e+09</td>\n",
       "    </tr>\n",
       "    <tr>\n",
       "      <td>4</td>\n",
       "      <td>Billionaires only London vault for the ultra-r...</td>\n",
       "      <td>6</td>\n",
       "      <td>e4j5mu</td>\n",
       "      <td>Capitalism</td>\n",
       "      <td>https://www.theguardian.com/news/2019/dec/01/b...</td>\n",
       "      <td>0</td>\n",
       "      <td>()</td>\n",
       "      <td>1.575245e+09</td>\n",
       "    </tr>\n",
       "  </tbody>\n",
       "</table>\n",
       "</div>"
      ],
      "text/plain": [
       "                                               title  score      id  \\\n",
       "0                                 Community Comments     22  dztn6a   \n",
       "1           Ranking US Occupations by Wage 1999-2018     31  e4iwb0   \n",
       "2  Millennial and Gen Zers: What/Who made you sub...     37  e4e8lk   \n",
       "3  Socialist Myths: The Nanny state (of mind) and...     15  e4fhc7   \n",
       "4  Billionaires only London vault for the ultra-r...      6  e4j5mu   \n",
       "\n",
       "    subreddit                                                url  \\\n",
       "0  Capitalism  https://www.reddit.com/r/Capitalism/comments/d...   \n",
       "1  Capitalism        https://www.youtube.com/watch?v=8-CbML_g3Lo   \n",
       "2  Capitalism  https://www.reddit.com/r/Capitalism/comments/e...   \n",
       "3  Capitalism  https://www.reddit.com/r/Capitalism/comments/e...   \n",
       "4  Capitalism  https://www.theguardian.com/news/2019/dec/01/b...   \n",
       "\n",
       "   num_comments                                           comments  \\\n",
       "0             8               (f8ah9li, f8ahgtb, f8ekdlu, f8vkbl1)   \n",
       "1             1                                          (f9csd7o)   \n",
       "2            53  (f99zjx3, f9b01v3, f9advqv, f9ba8h2, f9au0i3, ...   \n",
       "3             7                                 (f9c6isi, f9b2hc4)   \n",
       "4             0                                                 ()   \n",
       "\n",
       "        created  \n",
       "0  1.574415e+09  \n",
       "1  1.575244e+09  \n",
       "2  1.575219e+09  \n",
       "3  1.575224e+09  \n",
       "4  1.575245e+09  "
      ]
     },
     "execution_count": 7,
     "metadata": {},
     "output_type": "execute_result"
    }
   ],
   "source": [
    "%%time\n",
    "posts = []\n",
    "for subreddit in subreddits['subreddit']:\n",
    "    current_subreddit = reddit.subreddit(subreddit)\n",
    "    print(subreddit)\n",
    "    for post in current_subreddit.hot(limit=100):\n",
    "        posts.append([post.title, post.score, post.id, post.subreddit, post.url, post.num_comments, post.comments, post.created])\n",
    "posts = pd.DataFrame(posts,columns=['title', 'score', 'id', 'subreddit', 'url', 'num_comments', 'comments', 'created'])\n",
    "posts.head()"
   ]
  },
  {
   "cell_type": "code",
   "execution_count": 50,
   "metadata": {},
   "outputs": [
    {
     "data": {
      "text/plain": [
       "125412"
      ]
     },
     "execution_count": 50,
     "metadata": {},
     "output_type": "execute_result"
    }
   ],
   "source": [
    "posts.astype({'subreddit': 'str'}).groupby('subreddit')['num_comments'].agg(sum).sort_values(ascending = False).sum()"
   ]
  },
  {
   "cell_type": "code",
   "execution_count": 56,
   "metadata": {},
   "outputs": [
    {
     "data": {
      "text/plain": [
       "4"
      ]
     },
     "execution_count": 56,
     "metadata": {},
     "output_type": "execute_result"
    }
   ],
   "source": [
    "len(posts['comments'][0])"
   ]
  },
  {
   "cell_type": "code",
   "execution_count": 9,
   "metadata": {},
   "outputs": [],
   "source": [
    "df_test = posts[:10]"
   ]
  },
  {
   "cell_type": "code",
   "execution_count": 10,
   "metadata": {},
   "outputs": [],
   "source": [
    "from praw.models import MoreComments\n",
    "\n",
    "def extract_comments(s):\n",
    "    ret_list = []\n",
    "    for comment in s:\n",
    "        if isinstance(comment, MoreComments):\n",
    "            continue\n",
    "        ret_list.append(comment.body)\n",
    "    return ret_list"
   ]
  },
  {
   "cell_type": "code",
   "execution_count": 11,
   "metadata": {},
   "outputs": [],
   "source": [
    "test = df_test['comments'].apply(extract_comments)"
   ]
  },
  {
   "cell_type": "code",
   "execution_count": 12,
   "metadata": {},
   "outputs": [
    {
     "name": "stdout",
     "output_type": "stream",
     "text": [
      "<class 'list'>\n"
     ]
    }
   ],
   "source": [
    "test = [x for x in test if x != []]\n",
    "print(type(test))"
   ]
  },
  {
   "cell_type": "code",
   "execution_count": 19,
   "metadata": {
    "scrolled": true
   },
   "outputs": [
    {
     "name": "stdout",
     "output_type": "stream",
     "text": [
      "[deleted]\n",
      "Hey, if you need mods i am willing to be one. I have prior moving experience and believe that capitalism is the right way to go as well as I'm all for civil discussion. I might be a good fit.\n",
      "I have tagged several posts as the spam that they are. This is not /r/libertarianism and intervention is good. I will step up to help mod if it raises the quality of this sub.\n",
      "laissez-faire moderating: usually better than a psycho with a ban-hammer.\n"
     ]
    }
   ],
   "source": [
    "for comment in df_test['comments'][0]:\n",
    "    if isinstance(comment, MoreComments):\n",
    "        continue\n",
    "    print(comment.body)"
   ]
  },
  {
   "cell_type": "code",
   "execution_count": 51,
   "metadata": {},
   "outputs": [],
   "source": [
    "comment_id = []\n",
    "for i in range(len(posts)):\n",
    "    for comment in posts['comments'][i]:\n",
    "        if isinstance(comment, MoreComments):\n",
    "            continue\n",
    "        comment_id.append([posts['id'][i],  comment.body, posts['subreddit'][i]])"
   ]
  },
  {
   "cell_type": "code",
   "execution_count": 52,
   "metadata": {},
   "outputs": [],
   "source": [
    "comment_id_df = pd.DataFrame(comment_id, columns = ['post_id', 'comment', 'subreddit'])"
   ]
  },
  {
   "cell_type": "code",
   "execution_count": 57,
   "metadata": {},
   "outputs": [],
   "source": [
    "new_df = posts.merge(comment_id_df, left_on = 'id', right_on='post_id')"
   ]
  },
  {
   "cell_type": "code",
   "execution_count": 59,
   "metadata": {},
   "outputs": [],
   "source": [
    "new_df.to_csv('extracted_24k.csv')"
   ]
  }
 ],
 "metadata": {
  "kernelspec": {
   "display_name": "Python 3",
   "language": "python",
   "name": "python3"
  },
  "language_info": {
   "codemirror_mode": {
    "name": "ipython",
    "version": 3
   },
   "file_extension": ".py",
   "mimetype": "text/x-python",
   "name": "python",
   "nbconvert_exporter": "python",
   "pygments_lexer": "ipython3",
   "version": "3.7.4"
  }
 },
 "nbformat": 4,
 "nbformat_minor": 2
}
