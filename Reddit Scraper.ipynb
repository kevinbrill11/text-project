{
 "cells": [
  {
   "cell_type": "code",
   "execution_count": 42,
   "metadata": {},
   "outputs": [],
   "source": [
    "import praw\n",
    "import pandas as pd\n",
    "import datetime as dt\n",
    "import numpy as np\n",
    "import time\n",
    "%matplotlib inline"
   ]
  },
  {
   "cell_type": "code",
   "execution_count": 20,
   "metadata": {},
   "outputs": [],
   "source": [
    "reddit = praw.Reddit(client_id='Bb1fhVsMwX10GQ', \\\n",
    "                     client_secret='Tj5dnHfyUjftHdbPtZLP6fbtH_4', \\\n",
    "                     user_agent=\"Hill-Brilly's\", \\\n",
    "                     username='RockDrums11', \\\n",
    "                     password='hillbrillies69')"
   ]
  },
  {
   "cell_type": "code",
   "execution_count": 51,
   "metadata": {},
   "outputs": [],
   "source": [
    "subreddits = pd.read_csv(\"subreddits.csv\", header = None)"
   ]
  },
  {
   "cell_type": "code",
   "execution_count": 52,
   "metadata": {},
   "outputs": [
    {
     "data": {
      "text/plain": [
       "(31, 1)"
      ]
     },
     "execution_count": 52,
     "metadata": {},
     "output_type": "execute_result"
    }
   ],
   "source": [
    "subreddits.shape"
   ]
  },
  {
   "cell_type": "code",
   "execution_count": 53,
   "metadata": {},
   "outputs": [],
   "source": [
    "subreddits.columns = ['subreddit']\n",
    "df = pd.DataFrame(['title', 'score', 'id', 'subreddit', 'url', 'num_comments', 'comments', 'created'])"
   ]
  },
  {
   "cell_type": "code",
   "execution_count": 54,
   "metadata": {
    "scrolled": true
   },
   "outputs": [
    {
     "name": "stdout",
     "output_type": "stream",
     "text": [
      "Capitalism\n",
      "changemyview\n",
      "Communist\n",
      "Conservative\n",
      "conservatives\n",
      "democrats\n",
      "ElizabethWarren\n",
      "Fuckthealtright\n",
      "government\n",
      "JoeBiden\n",
      "Liberal\n",
      "Libertarian\n",
      "LibertarianLeft\n",
      "Marxism\n",
      "neoliberal\n",
      "Pete_Buttigieg\n",
      "PoliticalDiscussion\n",
      "PoliticalHumor\n",
      "politics\n",
      "progressive\n",
      "RadicalFeminism\n",
      "Republican\n",
      "republicanism\n",
      "republicans\n",
      "SandersForPresident\n",
      "socialdemocracy\n",
      "socialism\n",
      "The_Donald\n",
      "uspolitics\n",
      "VoteBlue\n",
      "YangForPresidentHQ\n",
      "Wall time: 54min 36s\n"
     ]
    },
    {
     "data": {
      "text/html": [
       "<div>\n",
       "<style scoped>\n",
       "    .dataframe tbody tr th:only-of-type {\n",
       "        vertical-align: middle;\n",
       "    }\n",
       "\n",
       "    .dataframe tbody tr th {\n",
       "        vertical-align: top;\n",
       "    }\n",
       "\n",
       "    .dataframe thead th {\n",
       "        text-align: right;\n",
       "    }\n",
       "</style>\n",
       "<table border=\"1\" class=\"dataframe\">\n",
       "  <thead>\n",
       "    <tr style=\"text-align: right;\">\n",
       "      <th></th>\n",
       "      <th>title</th>\n",
       "      <th>score</th>\n",
       "      <th>id</th>\n",
       "      <th>subreddit</th>\n",
       "      <th>url</th>\n",
       "      <th>num_comments</th>\n",
       "      <th>comments</th>\n",
       "      <th>created</th>\n",
       "    </tr>\n",
       "  </thead>\n",
       "  <tbody>\n",
       "    <tr>\n",
       "      <td>0</td>\n",
       "      <td>Community Comments</td>\n",
       "      <td>22</td>\n",
       "      <td>dztn6a</td>\n",
       "      <td>Capitalism</td>\n",
       "      <td>https://www.reddit.com/r/Capitalism/comments/d...</td>\n",
       "      <td>2</td>\n",
       "      <td>(f8ah9li, f8ahgtb)</td>\n",
       "      <td>1.574415e+09</td>\n",
       "    </tr>\n",
       "    <tr>\n",
       "      <td>1</td>\n",
       "      <td>[rant] Socialist Myths: Each time it ends in p...</td>\n",
       "      <td>34</td>\n",
       "      <td>e01v3l</td>\n",
       "      <td>Capitalism</td>\n",
       "      <td>https://www.reddit.com/r/Capitalism/comments/e...</td>\n",
       "      <td>4</td>\n",
       "      <td>(f8buptb, f8c60zv, f8c97wh, f8bvm02)</td>\n",
       "      <td>1.574463e+09</td>\n",
       "    </tr>\n",
       "    <tr>\n",
       "      <td>2</td>\n",
       "      <td>Costco vs Amazon: How Costco is beating Amazon?</td>\n",
       "      <td>11</td>\n",
       "      <td>e04g19</td>\n",
       "      <td>Capitalism</td>\n",
       "      <td>https://youtu.be/8F0Ynb05UTg</td>\n",
       "      <td>1</td>\n",
       "      <td>(f8bww5n)</td>\n",
       "      <td>1.574474e+09</td>\n",
       "    </tr>\n",
       "    <tr>\n",
       "      <td>3</td>\n",
       "      <td>Gary Kasparov Speaks the Truth, Entitled Ameri...</td>\n",
       "      <td>64</td>\n",
       "      <td>dzw56i</td>\n",
       "      <td>Capitalism</td>\n",
       "      <td>https://www.reddit.com/r/Capitalism/comments/d...</td>\n",
       "      <td>39</td>\n",
       "      <td>(f8aq6h8, f8b64xg, f8b9jy4, f8bqlm4, f8bw3cj, ...</td>\n",
       "      <td>1.574427e+09</td>\n",
       "    </tr>\n",
       "    <tr>\n",
       "      <td>4</td>\n",
       "      <td>Milton Friedman Describes Hong Kong as an Exam...</td>\n",
       "      <td>1</td>\n",
       "      <td>e07mh8</td>\n",
       "      <td>Capitalism</td>\n",
       "      <td>https://www.youtube.com/watch?v=xqh0zXSd4vc&amp;fe...</td>\n",
       "      <td>0</td>\n",
       "      <td>()</td>\n",
       "      <td>1.574487e+09</td>\n",
       "    </tr>\n",
       "  </tbody>\n",
       "</table>\n",
       "</div>"
      ],
      "text/plain": [
       "                                               title  score      id  \\\n",
       "0                                 Community Comments     22  dztn6a   \n",
       "1  [rant] Socialist Myths: Each time it ends in p...     34  e01v3l   \n",
       "2    Costco vs Amazon: How Costco is beating Amazon?     11  e04g19   \n",
       "3  Gary Kasparov Speaks the Truth, Entitled Ameri...     64  dzw56i   \n",
       "4  Milton Friedman Describes Hong Kong as an Exam...      1  e07mh8   \n",
       "\n",
       "    subreddit                                                url  \\\n",
       "0  Capitalism  https://www.reddit.com/r/Capitalism/comments/d...   \n",
       "1  Capitalism  https://www.reddit.com/r/Capitalism/comments/e...   \n",
       "2  Capitalism                       https://youtu.be/8F0Ynb05UTg   \n",
       "3  Capitalism  https://www.reddit.com/r/Capitalism/comments/d...   \n",
       "4  Capitalism  https://www.youtube.com/watch?v=xqh0zXSd4vc&fe...   \n",
       "\n",
       "   num_comments                                           comments  \\\n",
       "0             2                                 (f8ah9li, f8ahgtb)   \n",
       "1             4               (f8buptb, f8c60zv, f8c97wh, f8bvm02)   \n",
       "2             1                                          (f8bww5n)   \n",
       "3            39  (f8aq6h8, f8b64xg, f8b9jy4, f8bqlm4, f8bw3cj, ...   \n",
       "4             0                                                 ()   \n",
       "\n",
       "        created  \n",
       "0  1.574415e+09  \n",
       "1  1.574463e+09  \n",
       "2  1.574474e+09  \n",
       "3  1.574427e+09  \n",
       "4  1.574487e+09  "
      ]
     },
     "execution_count": 54,
     "metadata": {},
     "output_type": "execute_result"
    }
   ],
   "source": [
    "%%time\n",
    "posts = []\n",
    "for subreddit in subreddits['subreddit']:\n",
    "    current_subreddit = reddit.subreddit(subreddit)\n",
    "    print(subreddit)\n",
    "    for post in current_subreddit.hot(limit=100):\n",
    "        posts.append([post.title, post.score, post.id, post.subreddit, post.url, post.num_comments, post.comments, post.created])\n",
    "posts = pd.DataFrame(posts,columns=['title', 'score', 'id', 'subreddit', 'url', 'num_comments', 'comments', 'created'])\n",
    "posts.head()"
   ]
  },
  {
   "cell_type": "code",
   "execution_count": 56,
   "metadata": {},
   "outputs": [
    {
     "data": {
      "text/plain": [
       "129913"
      ]
     },
     "execution_count": 56,
     "metadata": {},
     "output_type": "execute_result"
    }
   ],
   "source": [
    "posts.astype({'subreddit': 'str'}).groupby('subreddit')['num_comments'].agg(sum).sort_values(ascending = False).sum()"
   ]
  },
  {
   "cell_type": "code",
   "execution_count": 57,
   "metadata": {},
   "outputs": [],
   "source": [
    "df_test = posts[:10]"
   ]
  },
  {
   "cell_type": "code",
   "execution_count": 84,
   "metadata": {},
   "outputs": [],
   "source": [
    "from praw.models import MoreComments\n",
    "\n",
    "def extract_comments(s):\n",
    "    ret_list = []\n",
    "    for comment in s:\n",
    "        if isinstance(comment, MoreComments):\n",
    "            continue\n",
    "        ret_list.append(comment.body)\n",
    "    return ret_list"
   ]
  },
  {
   "cell_type": "code",
   "execution_count": 85,
   "metadata": {},
   "outputs": [],
   "source": [
    "test = df_test['comments'].apply(extract_comments)"
   ]
  },
  {
   "cell_type": "code",
   "execution_count": 83,
   "metadata": {},
   "outputs": [
    {
     "name": "stdout",
     "output_type": "stream",
     "text": [
      "<class 'list'>\n"
     ]
    }
   ],
   "source": [
    "test = [x for x in test if x != []]\n",
    "print(type(test))"
   ]
  },
  {
   "cell_type": "code",
   "execution_count": 66,
   "metadata": {
    "scrolled": true
   },
   "outputs": [
    {
     "name": "stdout",
     "output_type": "stream",
     "text": [
      "Deregulation and market selection are the **only** ways to run a sub about capitalism! Let those losers at /r/chapotraphouse “ban” things they don’t like! \n",
      "\n",
      "All markets have a risk of failure due to unfair manipulation. We should only moderate to keep the system functioning. That means “no” to moderating content—good and bad discussions and topics can rise of fall on their votes—but “yes” to moderating illegal content, posts that violate Reddit TOS, and spam (eg solicitations). That’s the way to go!\n",
      "\n",
      "Thanks for your efforts!\n",
      "Hey, if you need mods i am willing to be one. I have prior moving experience and believe that capitalism is the right way to go as well as I'm all for civil discussion. I might be a good fit.\n"
     ]
    }
   ],
   "source": [
    "for comment in df_test['comments'][0]:\n",
    "    if isinstance(comment, MoreComments):\n",
    "        continue\n",
    "    print(comment.body)"
   ]
  },
  {
   "cell_type": "code",
   "execution_count": 86,
   "metadata": {},
   "outputs": [],
   "source": [
    "posts.to_csv(\"first_scrape.csv\")"
   ]
  }
 ],
 "metadata": {
  "kernelspec": {
   "display_name": "Python 3",
   "language": "python",
   "name": "python3"
  },
  "language_info": {
   "codemirror_mode": {
    "name": "ipython",
    "version": 3
   },
   "file_extension": ".py",
   "mimetype": "text/x-python",
   "name": "python",
   "nbconvert_exporter": "python",
   "pygments_lexer": "ipython3",
   "version": "3.7.4"
  }
 },
 "nbformat": 4,
 "nbformat_minor": 2
}
